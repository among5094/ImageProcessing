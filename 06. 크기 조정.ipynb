{
 "cells": [
  {
   "cell_type": "markdown",
   "id": "98fdca88",
   "metadata": {},
   "source": [
    "# 6. 크기 조정"
   ]
  },
  {
   "cell_type": "markdown",
   "id": "df0c7ebe",
   "metadata": {},
   "source": [
    "## 이미지\n",
    "\n",
    "1. 고정 크기\n",
    "2. 비율로 설정"
   ]
  },
  {
   "cell_type": "markdown",
   "id": "f06aeba9",
   "metadata": {},
   "source": [
    "#### 1. 고정 크기로 설정"
   ]
  },
  {
   "cell_type": "code",
   "execution_count": 2,
   "id": "413a65be",
   "metadata": {},
   "outputs": [],
   "source": [
    "import cv2\n",
    "img = cv2.imread('img.jpg')\n",
    "dst = cv2.resize(img, (400,500)) #width,height 고정 크기\n",
    "cv2.imshow('img', img)\n",
    "cv2.imshow('resize', dst)\n",
    "\n",
    "cv2.waitKey(0)\n",
    "cv2.destroyAllWindows()\n"
   ]
  },
  {
   "cell_type": "markdown",
   "id": "3b29a2f3",
   "metadata": {},
   "source": [
    "#### 2. 비율로 설정"
   ]
  },
  {
   "cell_type": "code",
   "execution_count": 5,
   "id": "2c19d87b",
   "metadata": {},
   "outputs": [],
   "source": [
    "import cv2\n",
    "img = cv2.imread('img.jpg')\n",
    "dst = cv2.resize(img, None, fx=2, fy=2) #x,y비율정의(None), 0.5배로 축소\n",
    "cv2.imshow('img', img)\n",
    "cv2.imshow('resize', dst)\n",
    "\n",
    "cv2.waitKey(0)\n",
    "cv2.destroyAllWindows()\n"
   ]
  },
  {
   "cell_type": "markdown",
   "id": "5cc74ab1",
   "metadata": {},
   "source": [
    "### 보간법\n",
    "보간법이란? 이미지의 크기를 늘릴 때 픽셀로 이루어진 이미지를   \n",
    "어떻게 키우고 그 사이에 어떤 픽셀을 넣을지 또는   \n",
    "크기를 줄일 때 손실되는 픽셀을 어떻게 선정하는 지에 대한...\n",
    "\n",
    "1. cv2.INTER_AREA : 크기를 줄일 때 사용\n",
    "2. CV2.INTER_CUBIC : 크기를 늘릴 때 사용 (속도 느림, 그러나 퀄리티는 좋음)\n",
    "3. CV2.INTER_LINEAR : 크기를 늘릴 때 사용 (기본값)"
   ]
  },
  {
   "cell_type": "markdown",
   "id": "a387fdb4",
   "metadata": {},
   "source": [
    "#### 1. 보간법을 적용하여 축소해보기 "
   ]
  },
  {
   "cell_type": "code",
   "execution_count": 7,
   "id": "ea10ee26",
   "metadata": {},
   "outputs": [],
   "source": [
    "import cv2\n",
    "img = cv2.imread('img.jpg')\n",
    "dst = cv2.resize(img, None, fx=0.5, fy=0.5, interpolation= cv2.INTER_AREA ) #0.5배로 축소\n",
    "\n",
    "cv2.imshow('img', img)\n",
    "cv2.imshow('resize', dst)\n",
    "cv2.waitKey(0)\n",
    "cv2.destroyAllWindows()"
   ]
  },
  {
   "cell_type": "markdown",
   "id": "782bfd7c",
   "metadata": {},
   "source": [
    "#### 2. 보간법을 적용하여 확대해보기 "
   ]
  },
  {
   "cell_type": "code",
   "execution_count": 9,
   "id": "8e64b13c",
   "metadata": {},
   "outputs": [],
   "source": [
    "import cv2\n",
    "img = cv2.imread('img.jpg')\n",
    "dst = cv2.resize(img, None, fx=2, fy=2, interpolation= cv2.INTER_CUBIC ) #2배로 확대\n",
    "\n",
    "cv2.imshow('img', img)\n",
    "cv2.imshow('resize', dst)\n",
    "cv2.waitKey(0)\n",
    "cv2.destroyAllWindows()"
   ]
  },
  {
   "cell_type": "markdown",
   "id": "243c02e0",
   "metadata": {},
   "source": [
    "### 보간법을 동영상에도 적용해보기"
   ]
  },
  {
   "cell_type": "markdown",
   "id": "0309bb94",
   "metadata": {},
   "source": [
    "#### 고정 크기로 설정"
   ]
  },
  {
   "cell_type": "code",
   "execution_count": 14,
   "id": "465ff1fd",
   "metadata": {},
   "outputs": [],
   "source": [
    "import cv2\n",
    "cap = cv2.VideoCapture('video.mp4')\n",
    "\n",
    "while cap.isOpened():\n",
    "    ret, frame = cap.read()\n",
    "    if not ret:\n",
    "        break\n",
    "        \n",
    "    frame_resize = cv2.resize(frame, (400,500))    \n",
    "        \n",
    "    cv2.imshow('video', frame_resize)\n",
    "    if cv2.waitKey(1) == ord('q'):\n",
    "        print('사용자의 입력에 의해 종료합니다.')\n",
    "        break\n",
    "            \n",
    "cap.release()\n",
    "cv2.destroyAllWindows()"
   ]
  },
  {
   "cell_type": "code",
   "execution_count": null,
   "id": "730b34a9",
   "metadata": {},
   "outputs": [],
   "source": []
  },
  {
   "cell_type": "markdown",
   "id": "dce36b22",
   "metadata": {},
   "source": [
    "#### 비율로 설정"
   ]
  },
  {
   "cell_type": "code",
   "execution_count": 15,
   "id": "054c8ae0",
   "metadata": {},
   "outputs": [
    {
     "name": "stdout",
     "output_type": "stream",
     "text": [
      "사용자의 입력에 의해 종료합니다.\n"
     ]
    }
   ],
   "source": [
    "import cv2\n",
    "cap = cv2.VideoCapture('video.mp4')\n",
    "\n",
    "while cap.isOpened():\n",
    "    ret, frame = cap.read()\n",
    "    if not ret:\n",
    "        break\n",
    "        \n",
    "    frame_resize = cv2.resize(frame, None, fx=1.5, fy=1.5, interpolation=cv2.INTER_CUBIC)#영상이 커졌지만 화질저하는 잘 모르겠음!\n",
    "        \n",
    "    cv2.imshow('video', frame_resize)\n",
    "    if cv2.waitKey(1) == ord('q'):\n",
    "        print('사용자의 입력에 의해 종료합니다.')\n",
    "        break\n",
    "            \n",
    "cap.release()\n",
    "cv2.destroyAllWindows()"
   ]
  },
  {
   "cell_type": "code",
   "execution_count": null,
   "id": "3e408e5c",
   "metadata": {},
   "outputs": [],
   "source": []
  },
  {
   "cell_type": "code",
   "execution_count": null,
   "id": "02836ed3",
   "metadata": {},
   "outputs": [],
   "source": []
  }
 ],
 "metadata": {
  "kernelspec": {
   "display_name": "Python 3 (ipykernel)",
   "language": "python",
   "name": "python3"
  },
  "language_info": {
   "codemirror_mode": {
    "name": "ipython",
    "version": 3
   },
   "file_extension": ".py",
   "mimetype": "text/x-python",
   "name": "python",
   "nbconvert_exporter": "python",
   "pygments_lexer": "ipython3",
   "version": "3.10.9"
  }
 },
 "nbformat": 4,
 "nbformat_minor": 5
}
