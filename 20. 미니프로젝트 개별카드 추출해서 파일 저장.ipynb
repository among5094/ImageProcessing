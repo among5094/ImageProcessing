{
 "cells": [
  {
   "cell_type": "markdown",
   "id": "a51ab083",
   "metadata": {},
   "source": [
    "# 20. 미니프로젝트 개별카드 추출해서 파일 저장"
   ]
  },
  {
   "cell_type": "code",
   "execution_count": 8,
   "id": "8b4b899f",
   "metadata": {},
   "outputs": [],
   "source": [
    "import cv2\n",
    "\n",
    "img=cv2.imread('card.png')\n",
    "target_img = img.copy() #사본이미지\n",
    "\n",
    "gray = cv2.cvtColor(img, cv2.COLOR_BGR2GRAY)\n",
    "ret, otsu = cv2.threshold(gray, -1, 255, cv2.THRESH_BINARY| cv2.THRESH_OTSU) \n",
    "contours, hierarchy = cv2.findContours(otsu, cv2.RETR_TREE, cv2.CHAIN_APPROX_NONE) # 계층 구조o\n",
    "\n",
    "COLOR=(0,200,0) #녹색\n",
    "\n",
    "idx=1\n",
    "#윤곽선 근처에 일정 크기 이상의사각형만 그리기\n",
    "for cnt in contours:\n",
    "    # 원하는 면적 크기 이상일 때, 사각형 그리기\n",
    "    if cv2.contourArea(cnt) > 25000:    \n",
    "        x,y,width,height=cv2.boundingRect(cnt) \n",
    "        cv2.rectangle(target_img, (x,y),(x+width, y+height), COLOR, 2)\n",
    "        \n",
    "        crop=img[y:y+height, x:x+width] #원본 이미지 중에 찾은 윤곽선 크기만큼 잘라서 crop에 저장\n",
    "        cv2.imshow(f'card_crop_{idx}', crop)#제대로 잘렸나 확인\n",
    "        cv2.imwrite(f'card_crop_{idx}.png', crop) #파일 저장\n",
    "        idx +=1\n",
    "        \n",
    "cv2.imshow('img', img)\n",
    "cv2.imshow('contour', target_img)\n",
    "\n",
    "cv2.waitKey(0)\n",
    "cv2.destroyAllWindows()"
   ]
  },
  {
   "cell_type": "code",
   "execution_count": null,
   "id": "6f811ae2",
   "metadata": {},
   "outputs": [],
   "source": []
  },
  {
   "cell_type": "code",
   "execution_count": null,
   "id": "a396401a",
   "metadata": {},
   "outputs": [],
   "source": []
  }
 ],
 "metadata": {
  "kernelspec": {
   "display_name": "Python 3 (ipykernel)",
   "language": "python",
   "name": "python3"
  },
  "language_info": {
   "codemirror_mode": {
    "name": "ipython",
    "version": 3
   },
   "file_extension": ".py",
   "mimetype": "text/x-python",
   "name": "python",
   "nbconvert_exporter": "python",
   "pygments_lexer": "ipython3",
   "version": "3.11.3"
  }
 },
 "nbformat": 4,
 "nbformat_minor": 5
}
