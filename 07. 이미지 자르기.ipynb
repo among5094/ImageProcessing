{
 "cells": [
  {
   "cell_type": "markdown",
   "id": "52fd6f55",
   "metadata": {},
   "source": [
    "# 7. 이미지 자르기"
   ]
  },
  {
   "cell_type": "markdown",
   "id": "1aad6c1c",
   "metadata": {},
   "source": [
    "영역을 잘라서 새로운 윈도우(창)에 표시"
   ]
  },
  {
   "cell_type": "code",
   "execution_count": 3,
   "id": "a72c6ee1",
   "metadata": {},
   "outputs": [],
   "source": [
    "import cv2\n",
    "img = cv2.imread('img.jpg')\n",
    "#img.shape #(433, 640, 3)\n",
    "\n",
    "#img[세로범위, 가로범위]\n",
    "crop = img[100:200, 200:400] #세로 기준 100~200까지, 가로 기준 300~400까지 자름\n",
    "\n",
    "cv2.imshow('img', img)#원본 이지미\n",
    "cv2.imshow('crop', crop) #잘린이미지\n",
    "\n",
    "cv2.waitKey(0)\n",
    "cv2.destroyAllWindows()\n"
   ]
  },
  {
   "cell_type": "markdown",
   "id": "5984a70c",
   "metadata": {},
   "source": [
    "영역을 잘라서 기존 윈도우에 표시"
   ]
  },
  {
   "cell_type": "code",
   "execution_count": 6,
   "id": "648e8f02",
   "metadata": {},
   "outputs": [],
   "source": [
    "import cv2\n",
    "img = cv2.imread('img.jpg')\n",
    "\n",
    "#img[세로범위, 가로범위]\n",
    "crop = img[100:200, 200:400] #세로 기준 100~200까지, 가로 기준 300~400까지 자름\n",
    "img[100:200, 400:600] = crop #잘린 이미지(crop)을 img에 넣어줌\n",
    "\n",
    "#설명\n",
    "#crop을 통해서 원본 이미지를 자르고 \n",
    "#원본 이미지의 어떤 위치(세로기준100~200,가로기준400~600)에 잘린 이미지(crop)을 넣어줌 \n",
    "\n",
    "cv2.imshow('img', img)#원본 이지미\n",
    "cv2.waitKey(0)\n",
    "cv2.destroyAllWindows()\n"
   ]
  },
  {
   "cell_type": "code",
   "execution_count": null,
   "id": "82de49a9",
   "metadata": {},
   "outputs": [],
   "source": []
  },
  {
   "cell_type": "code",
   "execution_count": null,
   "id": "8c66abad",
   "metadata": {},
   "outputs": [],
   "source": []
  },
  {
   "cell_type": "code",
   "execution_count": null,
   "id": "2a9c950b",
   "metadata": {},
   "outputs": [],
   "source": []
  },
  {
   "cell_type": "code",
   "execution_count": null,
   "id": "a86a9518",
   "metadata": {},
   "outputs": [],
   "source": []
  },
  {
   "cell_type": "code",
   "execution_count": null,
   "id": "bbbcc3ff",
   "metadata": {},
   "outputs": [],
   "source": []
  },
  {
   "cell_type": "code",
   "execution_count": null,
   "id": "63ae3b1d",
   "metadata": {},
   "outputs": [],
   "source": []
  }
 ],
 "metadata": {
  "kernelspec": {
   "display_name": "Python 3 (ipykernel)",
   "language": "python",
   "name": "python3"
  },
  "language_info": {
   "codemirror_mode": {
    "name": "ipython",
    "version": 3
   },
   "file_extension": ".py",
   "mimetype": "text/x-python",
   "name": "python",
   "nbconvert_exporter": "python",
   "pygments_lexer": "ipython3",
   "version": "3.10.9"
  }
 },
 "nbformat": 4,
 "nbformat_minor": 5
}
