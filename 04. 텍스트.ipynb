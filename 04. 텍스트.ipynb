{
 "cells": [
  {
   "cell_type": "markdown",
   "id": "e8523fb3",
   "metadata": {},
   "source": [
    "# 4. 텍스트\n",
    "\n"
   ]
  },
  {
   "cell_type": "markdown",
   "id": "b5d847da",
   "metadata": {},
   "source": [
    "## openCV에서 사용하는 글꼴 종류  \n",
    "\n",
    "1. cv2.FONT_HERSHEY_SIMPLEX : 보통 크기의 산 세리프(sens-serif)글꼴\n",
    "2. cv2.FONT_HERSHEY_PLAIN : 작은 크기의 산 세리프 글꼴\n",
    "3. cv2.FONT_HERSHEY_SCRIPT_SIMPLEX : 필기체 스타일의 글꼴\n",
    "4. cv2.FONT_HERSHEY_TRIPLEX : 보통 크기의 세리프 글꼴\n",
    "5. cv2.FONT_ITALIC : 기울임 -> 근데 다른 폰트랑 \"함께\" 써야됨"
   ]
  },
  {
   "cell_type": "code",
   "execution_count": 15,
   "id": "f82b47ac",
   "metadata": {},
   "outputs": [],
   "source": [
    "#여러가지 글꼴 써보기\n",
    "\n",
    "\n",
    "import numpy as np\n",
    "import cv2\n",
    "\n",
    "img = np.zeros((480,640,3), dtype=np.uint8)\n",
    "\n",
    "SCALE = 1\n",
    "COLOR = (255,255,255) #흰색\n",
    "THICKNESS = 2 #두께\n",
    "\n",
    "\n",
    "#(어디에 그릴지?->그릴위치, 어떤 글자를 적을지,  x,y기준 글자의 시작 위치, 어떤 폰트를 쓸지, SCALE, COLOR, THICKNESS)\n",
    "cv2.putText(img, \"HyeMin_SIMPLEX\", (20,50), cv2.FONT_HERSHEY_SIMPLEX, SCALE, COLOR, THICKNESS )\n",
    "cv2.putText(img, \"HyeMin_PLAIN\", (20,150), cv2.FONT_HERSHEY_PLAIN , SCALE, COLOR, THICKNESS )\n",
    "cv2.putText(img, \"HyeMin_SCRIPT_SIMPLEX\", (20,250), cv2.FONT_HERSHEY_SCRIPT_SIMPLEX, SCALE, COLOR, THICKNESS )\n",
    "cv2.putText(img, \"HyeMin_TRIPLEX\", (20,350), cv2.FONT_HERSHEY_TRIPLEX, SCALE, COLOR, THICKNESS )\n",
    "cv2.putText(img, \"HyeMin_ITALIC\", (20,450), cv2.FONT_HERSHEY_TRIPLEX | cv2.FONT_ITALIC , SCALE, COLOR, THICKNESS )\n",
    "#italic은 다른 폰트와 | 랑 같이 써야됨\n",
    "\n",
    "cv2.imshow('img', img)\n",
    "cv2.waitKey(0)#무한대기\n",
    "cv2.destroyAllWindows()\n"
   ]
  },
  {
   "cell_type": "markdown",
   "id": "427fbec6",
   "metadata": {},
   "source": [
    "## 한글"
   ]
  },
  {
   "cell_type": "code",
   "execution_count": 16,
   "id": "83e69a8b",
   "metadata": {},
   "outputs": [],
   "source": [
    "#영어는 되는데 한글이 안됨\n",
    "\n",
    "import numpy as np\n",
    "import cv2\n",
    "\n",
    "img = np.zeros((480,640,3), dtype=np.uint8)\n",
    "\n",
    "SCALE = 1\n",
    "COLOR = (255,255,255) #흰색\n",
    "THICKNESS = 2 #두께\n",
    "\n",
    "cv2.putText(img, \"혜멍뭉이\", (20,50), cv2.FONT_HERSHEY_TRIPLEX, SCALE, COLOR, THICKNESS )\n",
    "cv2.putText(img, \"HM\", (20,150), cv2.FONT_HERSHEY_TRIPLEX, SCALE, COLOR, THICKNESS )\n",
    "\n",
    "cv2.imshow('img', img)\n",
    "cv2.waitKey(0)#무한대기\n",
    "cv2.destroyAllWindows()\n"
   ]
  },
  {
   "cell_type": "markdown",
   "id": "35c1b8a8",
   "metadata": {},
   "source": [
    "## 한글 우회 방법 \n",
    "\n",
    "PIL (python Image Library) 사용하기"
   ]
  },
  {
   "cell_type": "code",
   "execution_count": 20,
   "id": "589f572e",
   "metadata": {},
   "outputs": [],
   "source": [
    "#한글 써보기\n",
    "\n",
    "import numpy as np\n",
    "import cv2\n",
    "\n",
    "#한글을 쓰기 위한 작업\n",
    "from PIL import ImageFont, ImageDraw, Image\n",
    "\n",
    "def myPutText(src,text,pos,font_size,font_color):\n",
    "    img_pil = Image.fromarray(src)\n",
    "    draw = ImageDraw.Draw(img_pil)\n",
    "    font = ImageFont.truetype('fonts/gulim.ttc', font_size)\n",
    "    draw.text(pos,text,font=font, fill=font_color)\n",
    "    return np.array(img_pil)\n",
    "\n",
    "# ---\n",
    "\n",
    "img = np.zeros((480,640,3), dtype=np.uint8)\n",
    "\n",
    "FONT_SIZE = 30\n",
    "COLOR = (255,255,255) #흰색\n",
    "\n",
    "#fontsize에 SCALE이 아님! 그리고 THICKNESS(두께)도 필요없음\n",
    "img = myPutText(img, \"혜멍뭉이\", (20,50), FONT_SIZE, COLOR)\n",
    "\n",
    "cv2.imshow('img', img)\n",
    "cv2.waitKey(0)#무한대기\n",
    "cv2.destroyAllWindows()\n"
   ]
  },
  {
   "cell_type": "code",
   "execution_count": null,
   "id": "91eee709",
   "metadata": {},
   "outputs": [],
   "source": []
  },
  {
   "cell_type": "code",
   "execution_count": null,
   "id": "43fdeab9",
   "metadata": {},
   "outputs": [],
   "source": []
  },
  {
   "cell_type": "code",
   "execution_count": null,
   "id": "54aa952f",
   "metadata": {},
   "outputs": [],
   "source": []
  }
 ],
 "metadata": {
  "kernelspec": {
   "display_name": "Python 3 (ipykernel)",
   "language": "python",
   "name": "python3"
  },
  "language_info": {
   "codemirror_mode": {
    "name": "ipython",
    "version": 3
   },
   "file_extension": ".py",
   "mimetype": "text/x-python",
   "name": "python",
   "nbconvert_exporter": "python",
   "pygments_lexer": "ipython3",
   "version": "3.10.9"
  }
 },
 "nbformat": 4,
 "nbformat_minor": 5
}
