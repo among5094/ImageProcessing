{
 "cells": [
  {
   "cell_type": "markdown",
   "id": "09fac43a",
   "metadata": {},
   "source": [
    "# 18. 이미지 검출(경계선)"
   ]
  },
  {
   "cell_type": "markdown",
   "id": "f50638a0",
   "metadata": {},
   "source": [
    "- 경계선: 이미지의 색상이 급격하게 바뀌는 부분"
   ]
  },
  {
   "cell_type": "markdown",
   "id": "3d717a26",
   "metadata": {},
   "source": [
    "## Canny Edge Detection"
   ]
  },
  {
   "cell_type": "code",
   "execution_count": 9,
   "id": "ee9356dd",
   "metadata": {},
   "outputs": [],
   "source": [
    "import cv2\n",
    "img=cv2.imread('snowman.png') #이미지 불러오기\n",
    "\n",
    "#경계선 검출\n",
    "\n",
    "# canny=cv2.Canny(img, 150, 200)\n",
    "canny=cv2.Canny(img, 20, 40) #thresshold1,2값, 일반적으로 첫 번째 값을 더 작게 줌\n",
    "#cv2.Canny(대상 이미지, minval(하위임계값), maxval(상위임계값) ) <- 우리가 지정한 상위임계값인 200의 기울기보다 크면 경계선으로 검출. 150보다 낮으면 경계선으로 고려하지 않음\n",
    "\n",
    "cv2.imshow('origin img', img)\n",
    "cv2.imshow('Canny', canny)\n",
    "cv2.waitKey(0)\n",
    "cv2.destroyAllWindows()"
   ]
  },
  {
   "cell_type": "markdown",
   "id": "71259208",
   "metadata": {},
   "source": [
    "## 위의 코드에서 트랙바 추가"
   ]
  },
  {
   "cell_type": "code",
   "execution_count": 2,
   "id": "198a3903",
   "metadata": {},
   "outputs": [
    {
     "ename": "error",
     "evalue": "OpenCV(4.8.0) D:\\a\\opencv-python\\opencv-python\\opencv\\modules\\highgui\\src\\window_w32.cpp:2561: error: (-27:Null pointer) NULL window: 'Trackbar' in function 'cvGetTrackbarPos'\n",
     "output_type": "error",
     "traceback": [
      "\u001b[1;31m---------------------------------------------------------------------------\u001b[0m",
      "\u001b[1;31merror\u001b[0m                                     Traceback (most recent call last)",
      "Cell \u001b[1;32mIn[2], line 15\u001b[0m\n\u001b[0;32m     12\u001b[0m cv2\u001b[38;5;241m.\u001b[39mcreateTrackbar(\u001b[38;5;124m'\u001b[39m\u001b[38;5;124mthreshold2\u001b[39m\u001b[38;5;124m'\u001b[39m, name, \u001b[38;5;241m0\u001b[39m, \u001b[38;5;241m255\u001b[39m, empty) \u001b[38;5;66;03m#minval 하위임계값\u001b[39;00m\n\u001b[0;32m     14\u001b[0m \u001b[38;5;28;01mwhile\u001b[39;00m \u001b[38;5;28;01mTrue\u001b[39;00m:\n\u001b[1;32m---> 15\u001b[0m     threshold1 \u001b[38;5;241m=\u001b[39m cv2\u001b[38;5;241m.\u001b[39mgetTrackbarPos(\u001b[38;5;124m'\u001b[39m\u001b[38;5;124mthreshold1\u001b[39m\u001b[38;5;124m'\u001b[39m, name) \u001b[38;5;66;03m#트랙바의 현재 값을 반환\u001b[39;00m\n\u001b[0;32m     16\u001b[0m     threshold2 \u001b[38;5;241m=\u001b[39m cv2\u001b[38;5;241m.\u001b[39mgetTrackbarPos(\u001b[38;5;124m'\u001b[39m\u001b[38;5;124mthreshold2\u001b[39m\u001b[38;5;124m'\u001b[39m, name) \n\u001b[0;32m     18\u001b[0m     \u001b[38;5;66;03m#경계선 검출\u001b[39;00m\n",
      "\u001b[1;31merror\u001b[0m: OpenCV(4.8.0) D:\\a\\opencv-python\\opencv-python\\opencv\\modules\\highgui\\src\\window_w32.cpp:2561: error: (-27:Null pointer) NULL window: 'Trackbar' in function 'cvGetTrackbarPos'\n"
     ]
    }
   ],
   "source": [
    "import cv2\n",
    "img=cv2.imread('snowman.png') #이미지 불러오기\n",
    "\n",
    "#콜백함수 정의\n",
    "def empty(pos):\n",
    "    pass\n",
    "\n",
    "#트랙바 추가\n",
    "name=\"Trackbar\" #트랙바 이름\n",
    "cv2.namedWindow(name) #트랙바 윈도우 생성\n",
    "cv2.createTrackbar('threshold1', name, 0, 255, empty) #maxval 상위임계값\n",
    "cv2.createTrackbar('threshold2', name, 0, 255, empty) #minval 하위임계값\n",
    "\n",
    "while True:\n",
    "    threshold1 = cv2.getTrackbarPos('threshold1', name) #트랙바의 현재 값을 반환\n",
    "    threshold2 = cv2.getTrackbarPos('threshold2', name) \n",
    "    \n",
    "    #경계선 검출\n",
    "    canny=cv2.Canny(img, threshold1, threshold2)\n",
    "    cv2.imshow('origin img', img)\n",
    "    cv2.imshow(name, canny)\n",
    "\n",
    "    # 사용자가 'q'키를 누르면 종료\n",
    "    if cv2.waitKey(1) == ord('q'):\n",
    "        break\n",
    "        \n",
    "cv2.destroyAllWindows()"
   ]
  },
  {
   "cell_type": "code",
   "execution_count": null,
   "id": "11a8136c",
   "metadata": {},
   "outputs": [],
   "source": []
  }
 ],
 "metadata": {
  "kernelspec": {
   "display_name": "Python 3 (ipykernel)",
   "language": "python",
   "name": "python3"
  },
  "language_info": {
   "codemirror_mode": {
    "name": "ipython",
    "version": 3
   },
   "file_extension": ".py",
   "mimetype": "text/x-python",
   "name": "python",
   "nbconvert_exporter": "python",
   "pygments_lexer": "ipython3",
   "version": "3.11.3"
  }
 },
 "nbformat": 4,
 "nbformat_minor": 5
}
