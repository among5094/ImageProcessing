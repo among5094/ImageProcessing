{
 "cells": [
  {
   "cell_type": "markdown",
   "id": "58a4e9fa",
   "metadata": {},
   "source": [
    "# 환경설정\n",
    "Anaconda Prompt에서 다음 명령 수행  \n",
    ">pip install opencv-python"
   ]
  },
  {
   "cell_type": "code",
   "execution_count": 1,
   "id": "8353749f",
   "metadata": {},
   "outputs": [
    {
     "data": {
      "text/plain": [
       "'4.7.0'"
      ]
     },
     "execution_count": 1,
     "metadata": {},
     "output_type": "execute_result"
    }
   ],
   "source": [
    "import cv2 #python에서 OpenCV를 사용하기 위해 해야할 import\n",
    "cv2.__version__"
   ]
  },
  {
   "cell_type": "markdown",
   "id": "a1b8434a",
   "metadata": {},
   "source": [
    "# OpenCV(Computer Vision)\n",
    "다양한 영상( 이미지) / 동영상 처리에 사용되는 오픈소스 라이브러리 입니다."
   ]
  },
  {
   "cell_type": "markdown",
   "id": "d9a7fda9",
   "metadata": {},
   "source": [
    "# 1. 이미지 출력해보기"
   ]
  },
  {
   "cell_type": "code",
   "execution_count": 1,
   "id": "3a638314",
   "metadata": {},
   "outputs": [
    {
     "name": "stdout",
     "output_type": "stream",
     "text": [
      "113\n"
     ]
    }
   ],
   "source": [
    "import cv2\n",
    "img_cat = cv2.imread('img.jpg') #imread -> 해당경로의 파일 읽어오기\n",
    "cv2.imshow('img', img_cat)  #img_cat 이라는 이름의 창에 img를 표시\n",
    "key = cv2.waitKey(5000) #waitKey(0) 지정된 시간(ms) 동안 사용자 키 입력대기\n",
    "#(5000)을 쓰면 ms단위기 때문에 사용자가 입력하지 않으면 5초동안 이미지가 뜨다가 다음줄로 넘어가서 destroyAllWindows()만나서 창이 닫힘\n",
    "#(0) 무한대기인데 이미지 창을 계속 띄어놓고 싶으면 이걸 쓰면됨\n",
    "print(key) # 이미지가 뜬 후에 a를 누르면 97이 나옴\n",
    "#이것을 이용해서 무엇을 할 수 있나? -> 이미지에 a를 눌렀을 때 97이 나오면 어떤 작업을 수행하도록 설정하면 응용할 수 있다. \n",
    "#q를 누르면 113이 나오니까 이걸 정의해서 뭔갈 만들 수 있다.\n",
    "cv2.destroyAllWindows() #위에서 띄었던 모든 창 닫기"
   ]
  },
  {
   "cell_type": "code",
   "execution_count": 4,
   "id": "5aa9d8cf",
   "metadata": {},
   "outputs": [
    {
     "name": "stdout",
     "output_type": "stream",
     "text": [
      "c를 눌렀군!\n"
     ]
    }
   ],
   "source": [
    "#내가 원하는 이미지 출력해보기 -> 스스로 실습한 것 고쳐보기\n",
    "import cv2\n",
    "\n",
    "img_bubble = cv2.imread('bubble.jpg')\n",
    "cv2.imshow('img', img_bubble)\n",
    "key = cv2.waitKey(0) #무한대기 하다가\n",
    "#key = cv2.waitKey(3000) #3초 대기하는 코드\n",
    "\n",
    "#if-else문을 추가해보았다. \n",
    "if key == 97: #만약 이미지 위에 a를 누른다면?\n",
    "    print(\"a를 눌렀군!\") # 화면에 \"a를 눌렀군!\"을 출력하기\n",
    "elif key == 98:\n",
    "    print(\"b를 눌렀군!\")\n",
    "elif key == 99:\n",
    "    print(\"c를 눌렀군!\")\n",
    "    \n",
    "cv2.destroyAllWindows() #종료, 이거 주석처리하고 해봤는데 닫기가 안됨"
   ]
  },
  {
   "cell_type": "markdown",
   "id": "5b980fe6",
   "metadata": {},
   "source": [
    "## 읽기 옵션(이미지 출력에는 3가지 옵션이 있다)\n",
    "\n",
    "1. cv2.IMREAD_COLOR : 컬러 이미지. 투명 영역은 무시(png는 투명영역이 있다), 이 것이 기본값으로 설정이 됨\n",
    "2. cv2.IMREAD_GRAYSCALE : 흑백 이미지를 불러옴(같은 이미지지만)\n",
    "3. cv2.IMREAD_UNCHANGED : 이미지를 바꾸지 말라는 뜻 + 첫 번째는 투명 영역을 무시하지만 3번째는 투명 영역까지 포함"
   ]
  },
  {
   "cell_type": "code",
   "execution_count": 5,
   "id": "7a5fae4b",
   "metadata": {},
   "outputs": [],
   "source": [
    "#서로 다른 옵션으로 똑같은 이미지 3개 불러오기\n",
    "import cv2\n",
    "\n",
    "img_color =cv2.imread('img.jpg', cv2.IMREAD_COLOR)\n",
    "img_gray =cv2.imread('img.jpg', cv2.IMREAD_GRAYSCALE)\n",
    "img_unchanged =cv2.imread('img.jpg', cv2.IMREAD_UNCHANGED)\n",
    "\n",
    "cv2.imshow('img_color', img_color)\n",
    "cv2.imshow('img_gray', img_gray )\n",
    "cv2.imshow('img_unchanged', img_unchanged)\n",
    "\n",
    "cv2.waitKey(0)\n",
    "cv2.destroyAllWindows()"
   ]
  },
  {
   "cell_type": "markdown",
   "id": "58f337ca",
   "metadata": {},
   "source": [
    "## Shape\n",
    "이미지의 height,width,channel정보"
   ]
  },
  {
   "cell_type": "code",
   "execution_count": 7,
   "id": "cc379351",
   "metadata": {},
   "outputs": [
    {
     "data": {
      "text/plain": [
       "(433, 640, 3)"
      ]
     },
     "execution_count": 7,
     "metadata": {},
     "output_type": "execute_result"
    }
   ],
   "source": [
    "import cv2\n",
    "img = cv2.imread('img.jpg')\n",
    "img.shape \n",
    "#(가로,세로,채널정보)"
   ]
  },
  {
   "cell_type": "markdown",
   "id": "4262288b",
   "metadata": {},
   "source": [
    "## 교재 - ex2_5: 여백 조정 및 영상저장"
   ]
  },
  {
   "cell_type": "code",
   "execution_count": null,
   "id": "de18a311",
   "metadata": {},
   "outputs": [],
   "source": [
    "import cv2\n",
    "from ma"
   ]
  },
  {
   "cell_type": "code",
   "execution_count": null,
   "id": "a23a65f8",
   "metadata": {},
   "outputs": [],
   "source": []
  },
  {
   "cell_type": "code",
   "execution_count": null,
   "id": "6851ea04",
   "metadata": {},
   "outputs": [],
   "source": []
  },
  {
   "cell_type": "code",
   "execution_count": null,
   "id": "932cf47d",
   "metadata": {},
   "outputs": [],
   "source": []
  },
  {
   "cell_type": "code",
   "execution_count": null,
   "id": "885ba74a",
   "metadata": {},
   "outputs": [],
   "source": []
  },
  {
   "cell_type": "code",
   "execution_count": null,
   "id": "e405e1f8",
   "metadata": {},
   "outputs": [],
   "source": []
  },
  {
   "cell_type": "code",
   "execution_count": null,
   "id": "dbb2ea19",
   "metadata": {},
   "outputs": [],
   "source": []
  },
  {
   "cell_type": "code",
   "execution_count": null,
   "id": "18560968",
   "metadata": {},
   "outputs": [],
   "source": []
  },
  {
   "cell_type": "code",
   "execution_count": null,
   "id": "42628c8d",
   "metadata": {},
   "outputs": [],
   "source": []
  },
  {
   "cell_type": "code",
   "execution_count": null,
   "id": "7a0503f7",
   "metadata": {},
   "outputs": [],
   "source": []
  }
 ],
 "metadata": {
  "kernelspec": {
   "display_name": "Python 3 (ipykernel)",
   "language": "python",
   "name": "python3"
  },
  "language_info": {
   "codemirror_mode": {
    "name": "ipython",
    "version": 3
   },
   "file_extension": ".py",
   "mimetype": "text/x-python",
   "name": "python",
   "nbconvert_exporter": "python",
   "pygments_lexer": "ipython3",
   "version": "3.10.9"
  }
 },
 "nbformat": 4,
 "nbformat_minor": 5
}
