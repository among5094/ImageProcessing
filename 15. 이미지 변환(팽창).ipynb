{
 "cells": [
  {
   "cell_type": "markdown",
   "id": "7e2745f1",
   "metadata": {},
   "source": [
    "# 15. 이미지 변환(팽창)"
   ]
  },
  {
   "cell_type": "markdown",
   "id": "659abe80",
   "metadata": {},
   "source": [
    "## 이미지를 확장하여 작은 구멍을 채움\n",
    "\n",
    "흰색 영역의 이곽 픽셀 주변에 흰색을 추가"
   ]
  },
  {
   "cell_type": "code",
   "execution_count": 11,
   "id": "b68fdb45",
   "metadata": {},
   "outputs": [],
   "source": [
    "import cv2\n",
    "import numpy as np\n",
    "\n",
    "kernel = np.ones((3,3), dtype=np.uint8) #np.zeros는 공간을 전부 0.\n",
    "#ones는 전부 1로 채움\n",
    "#kernel\n",
    "\n",
    "img=cv2.imread('dilate.png', cv2.IMREAD_GRAYSCALE) #이미지 불러오기\n",
    "dilate_1=cv2.dilate(img, kernel, iterations=1)#반복횟수\n",
    "dilate_2=cv2.dilate(img, kernel, iterations=2)\n",
    "dilate_3=cv2.dilate(img, kernel, iterations=3)\n",
    "\n",
    "cv2.imshow('gray', img)\n",
    "\n",
    "#흰색 픽셀로 점점 크게 채워나감\n",
    "cv2.imshow('dilate_1', dilate_1)\n",
    "cv2.imshow('dilate_2', dilate_2)\n",
    "cv2.imshow('dilate_3', dilate_3)\n",
    "\n",
    "\n",
    "cv2.waitKey(0)\n",
    "cv2.destroyAllWindows()"
   ]
  },
  {
   "cell_type": "code",
   "execution_count": null,
   "id": "56c284db",
   "metadata": {},
   "outputs": [],
   "source": []
  },
  {
   "cell_type": "code",
   "execution_count": null,
   "id": "c15649c3",
   "metadata": {},
   "outputs": [],
   "source": []
  }
 ],
 "metadata": {
  "kernelspec": {
   "display_name": "Python 3 (ipykernel)",
   "language": "python",
   "name": "python3"
  },
  "language_info": {
   "codemirror_mode": {
    "name": "ipython",
    "version": 3
   },
   "file_extension": ".py",
   "mimetype": "text/x-python",
   "name": "python",
   "nbconvert_exporter": "python",
   "pygments_lexer": "ipython3",
   "version": "3.11.3"
  }
 },
 "nbformat": 4,
 "nbformat_minor": 5
}
