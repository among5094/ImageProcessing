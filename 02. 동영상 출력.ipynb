{
 "cells": [
  {
   "cell_type": "markdown",
   "id": "4c5767ec",
   "metadata": {},
   "source": [
    "# 2. 동영상 출력"
   ]
  },
  {
   "cell_type": "markdown",
   "id": "22efae05",
   "metadata": {},
   "source": [
    "## 동영상 파일 출력"
   ]
  },
  {
   "cell_type": "code",
   "execution_count": 37,
   "id": "acb2874f",
   "metadata": {},
   "outputs": [],
   "source": [
    "#파일경로: 사용자 -> 노혜민 -> PythonImageWorkspace -> OpenCV"
   ]
  },
  {
   "cell_type": "code",
   "execution_count": 39,
   "id": "511f4a00",
   "metadata": {},
   "outputs": [
    {
     "name": "stdout",
     "output_type": "stream",
     "text": [
      "더 이상 가져올 프레임이 없어요\n"
     ]
    }
   ],
   "source": [
    "#동영상은 이미지와 다르다. 여러 이미지들(프레임)이 연속적으로 보여져서 움직이는 것 처럼 보임\n",
    "import cv2\n",
    "cap = cv2.VideoCapture('video.mp4') #cap이라는 객체를 만들고 영상 불러오기\n",
    "\n",
    "#파일로부터 프레임을 가지고 오는 작업\n",
    "while cap.isOpened(): #동영상 파일이 올바르게 열렸는지 확인하기\n",
    "    ret, frame = cap.read() #ret: 성공여부, frame: 받아온 이미지(프레임), false 더 이상 받아올 것이 없다\n",
    "    if not ret:\n",
    "        print('더 이상 가져올 프레임이 없어요')\n",
    "        break \n",
    "    \n",
    "    cv2.imshow('video', frame) #( 윈도우 창의 제목 , 보여줄 이미지 ) -> 창에 이 프레임을 출력해준다.\n",
    "    \n",
    "    #만약 중간에 끄고 싶으면? -> 사용자가 어떤 키를 입력하면 반복문을 탈출해서 창을 닫도록\n",
    "    if cv2.waitKey(1) == ord('q'):  # waitKey() -> 영상의 속도 조절! \n",
    "        print('사용자 입력에 의해 종료합니다. ')\n",
    "        break \n",
    "    \n",
    "    #ord( ) -> 문자 1개를 인자로 받고 해당 문자에 해당하는 유니코드 정수를 반환\n",
    "    #key값 비교를 위해 ord 함수를 쓴다! 참고링크: https://blockdmask.tistory.com/544\n",
    "     \n",
    "        \n",
    "        \n",
    "cap.release() #자원 해제, 반환\n",
    "cv2.destroyAllWindows() #모든 창 닫기 -> 참고 링크: https://bkshin.tistory.com/entry/OpenCV-5-%EC%B0%BD-%EA%B4%80%EB%A6%AC-%EB%B0%8F-%EC%9D%B4%EB%B2%A4%ED%8A%B8-%EC%B2%98%EB%A6%AC"
   ]
  },
  {
   "cell_type": "markdown",
   "id": "43f48478",
   "metadata": {},
   "source": [
    "## 카메라 출력"
   ]
  },
  {
   "cell_type": "code",
   "execution_count": 40,
   "id": "3c2e68cd",
   "metadata": {},
   "outputs": [],
   "source": [
    "import cv2\n",
    "cap=cv2.VideoCapture(0) #안에 Device ID쓰기, 0번째 카메라 장치 (Device ID)\n",
    "\n",
    "#카메라 읽는 거 실패했으면?\n",
    "if not cap.isOpened(): #카메라가 잘 열리지 않은 경우\n",
    "    exit() #프로그램 종료\n",
    "\n",
    "#카메라는 동영상 파일처럼 기간이 정해진 거 없고 실시간으로 영상을 받아오는 거니까\n",
    "while True: #별다른 제약이 없어서 while로 무한반복\n",
    "    ret, frame = cap.read() #카메라로부터 프레임을 하나씩 보낸다\n",
    "    if not ret: #만약 ret가 없다면?\n",
    "        break #반복문 탈출\n",
    "    \n",
    "    cv2.imshow('camera', frame)\n",
    "    if cv2.waitKey(1) == ord('a'): #'a'를 눌러야 종료됨!\n",
    "        break\n",
    "\n",
    "cap.release()\n",
    "cv2.destroyAllWindows()\n"
   ]
  },
  {
   "cell_type": "code",
   "execution_count": null,
   "id": "928acc2b",
   "metadata": {},
   "outputs": [],
   "source": []
  }
 ],
 "metadata": {
  "kernelspec": {
   "display_name": "Python 3 (ipykernel)",
   "language": "python",
   "name": "python3"
  },
  "language_info": {
   "codemirror_mode": {
    "name": "ipython",
    "version": 3
   },
   "file_extension": ".py",
   "mimetype": "text/x-python",
   "name": "python",
   "nbconvert_exporter": "python",
   "pygments_lexer": "ipython3",
   "version": "3.10.9"
  }
 },
 "nbformat": 4,
 "nbformat_minor": 5
}
