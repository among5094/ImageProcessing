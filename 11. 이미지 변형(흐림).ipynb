{
 "cells": [
  {
   "cell_type": "markdown",
   "id": "dbb6ff02",
   "metadata": {},
   "source": [
    "# 11. 이미지 변형(흐림)  -> blurring\n",
    "  \n",
    "의도적으로 이미지를 흐리게 하는 이유?  \n",
    "보이는 정보를 조절함으로써 이미지의 노이즈를 제거하고 조금 더 매끈하게(smoothing) 하게 보이도록 만드는 효과를 낸다.  "
   ]
  },
  {
   "cell_type": "markdown",
   "id": "7dd7016d",
   "metadata": {},
   "source": [
    "## 가우시안 블러  \n",
    "이미지를 흐리게도 하면서 노이즈도 제거할 수 있다. \n",
    "이미지 연산이 필요할 때 보다 빠르고 정확하게 계산할 수 있다.  \n",
    "\n",
    ">1. 커널 사이즈 변화에 따른 흐림\n",
    ">2. 표준 편차 변화에 따른 흐림\n"
   ]
  },
  {
   "cell_type": "markdown",
   "id": "82a173c8",
   "metadata": {},
   "source": [
    "### 커널 사이즈 변화에 따른 흐림"
   ]
  },
  {
   "cell_type": "code",
   "execution_count": 1,
   "id": "28130d0a",
   "metadata": {},
   "outputs": [],
   "source": [
    "import cv2\n",
    "img = cv2.imread('img.jpg')\n",
    "\n",
    "# 커널 사이즈 : (3,3), (5,5), (7,7) \n",
    "kernel_3=cv2.GaussianBlur(img, (3,3), 0) #0은 표준편차임.\n",
    "kernel_5=cv2.GaussianBlur(img, (5,5), 0)\n",
    "kernel_7=cv2.GaussianBlur(img, (7,7), 0)\n",
    "\n",
    "cv2.imshow('img', img)\n",
    "cv2.imshow('kernel_3', img)\n",
    "cv2.imshow('kernel_5', img)\n",
    "cv2.imshow('kernel_7', img)\n",
    "\n",
    "cv2.waitKey(0)\n",
    "cv2.destroyAllWindows()"
   ]
  },
  {
   "cell_type": "markdown",
   "id": "8e51357e",
   "metadata": {},
   "source": [
    "### 표준 편차 변화에 따른 흐림"
   ]
  },
  {
   "cell_type": "code",
   "execution_count": 4,
   "id": "f82a4db6",
   "metadata": {},
   "outputs": [],
   "source": [
    "import cv2\n",
    "img = cv2.imread('img.jpg')\n",
    "\n",
    "# 커널 사이즈 : (3,3), (5,5), (7,7) \n",
    "sigma_1=cv2.GaussianBlur(img, (0,0), 1) #sigmaX -> 가우시안 커널의 x방향의 표준 편차\n",
    "sigma_2=cv2.GaussianBlur(img, (0,0), 2)\n",
    "sigma_3=cv2.GaussianBlur(img, (0,0), 3)\n",
    "\n",
    "cv2.imshow('img', img)\n",
    "cv2.imshow('sigma_3', sigma_1)\n",
    "cv2.imshow('sigma_5', sigma_2)\n",
    "cv2.imshow('sigma_7', sigma_3)\n",
    "\n",
    "cv2.waitKey(0)\n",
    "cv2.destroyAllWindows()"
   ]
  },
  {
   "cell_type": "code",
   "execution_count": null,
   "id": "552345aa",
   "metadata": {},
   "outputs": [],
   "source": []
  }
 ],
 "metadata": {
  "kernelspec": {
   "display_name": "Python 3 (ipykernel)",
   "language": "python",
   "name": "python3"
  },
  "language_info": {
   "codemirror_mode": {
    "name": "ipython",
    "version": 3
   },
   "file_extension": ".py",
   "mimetype": "text/x-python",
   "name": "python",
   "nbconvert_exporter": "python",
   "pygments_lexer": "ipython3",
   "version": "3.10.9"
  }
 },
 "nbformat": 4,
 "nbformat_minor": 5
}
