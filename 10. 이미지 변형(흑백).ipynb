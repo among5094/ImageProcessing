{
 "cells": [
  {
   "cell_type": "markdown",
   "id": "1143b27e",
   "metadata": {},
   "source": [
    "## 10. 이미지 변형(흑백)"
   ]
  },
  {
   "cell_type": "markdown",
   "id": "8c8077bd",
   "metadata": {},
   "source": [
    "이미지 변형이 필요한 이유 ->   \n",
    "이미지 데이터에도 분명 많은 데이터가 있지만  \n",
    "그중에서 불필요한 부분이나 부정확한 부분이 있을 수 있기 때문에  \n",
    "이런 부분을 걸러내기 위한 작업이 필요함   \n",
    "이걸 위해서 이미지를 전처리 하는 과정이 필요함"
   ]
  },
  {
   "cell_type": "markdown",
   "id": "4935da31",
   "metadata": {},
   "source": [
    "이미지를 흑백으로 읽음"
   ]
  },
  {
   "cell_type": "code",
   "execution_count": 3,
   "id": "da88e5fe",
   "metadata": {},
   "outputs": [],
   "source": [
    "import cv2\n",
    "img = cv2.imread('img.jpg', cv2.IMREAD_GRAYSCALE)\n",
    "\n",
    "cv2.imshow('img', img)\n",
    "cv2.waitKey(0)\n",
    "cv2.destroyAllWindows()"
   ]
  },
  {
   "cell_type": "markdown",
   "id": "0cc68f9f",
   "metadata": {},
   "source": [
    "이미지를 불러온 다음에 흑백으로 변경"
   ]
  },
  {
   "cell_type": "code",
   "execution_count": 5,
   "id": "e20716a0",
   "metadata": {},
   "outputs": [],
   "source": [
    "import cv2\n",
    "\n",
    "img = cv2.imread('img.jpg')\n",
    "dst = cv2.cvtColor(img, cv2.COLOR_BGR2GRAY) #cvtColor -> 색상 바꾸기\n",
    "\n",
    "cv2.imshow('img', img)\n",
    "cv2.imshow('dst', dst)\n",
    "\n",
    "cv2.waitKey(0)\n",
    "cv2.destroyAllWindows()"
   ]
  },
  {
   "cell_type": "code",
   "execution_count": null,
   "id": "1bd18774",
   "metadata": {},
   "outputs": [],
   "source": []
  },
  {
   "cell_type": "code",
   "execution_count": null,
   "id": "55d571ee",
   "metadata": {},
   "outputs": [],
   "source": []
  },
  {
   "cell_type": "code",
   "execution_count": null,
   "id": "b60c0a43",
   "metadata": {},
   "outputs": [],
   "source": []
  }
 ],
 "metadata": {
  "kernelspec": {
   "display_name": "Python 3 (ipykernel)",
   "language": "python",
   "name": "python3"
  },
  "language_info": {
   "codemirror_mode": {
    "name": "ipython",
    "version": 3
   },
   "file_extension": ".py",
   "mimetype": "text/x-python",
   "name": "python",
   "nbconvert_exporter": "python",
   "pygments_lexer": "ipython3",
   "version": "3.10.9"
  }
 },
 "nbformat": 4,
 "nbformat_minor": 5
}
