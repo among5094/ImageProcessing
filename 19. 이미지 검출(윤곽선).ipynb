{
 "cells": [
  {
   "cell_type": "markdown",
   "id": "7b991cd8",
   "metadata": {},
   "source": [
    "# 19. 이미지 검출(윤곽선)"
   ]
  },
  {
   "cell_type": "markdown",
   "id": "c411042d",
   "metadata": {},
   "source": [
    "## 윤곽선(Contour) : 경계선을 연결한 선\n",
    "- 경계선을 연결한 선이 윤곽선이 되는 것이다. "
   ]
  },
  {
   "cell_type": "code",
   "execution_count": 28,
   "id": "2963669a",
   "metadata": {},
   "outputs": [],
   "source": [
    "import cv2\n",
    "\n",
    "img=cv2.imread('card.png') #이미지 불러오기\n",
    "target_img = img.copy() # 사본 이미지 (findcontrol 함수는 원본이미지를 바꾸기 때문에 원본이미지를 보존하기 위해 복사해서 사본이미지 생성)\n",
    "\n",
    "gray = cv2.cvtColor(img, cv2.COLOR_BGR2GRAY)# gray scale한 뒤에\n",
    "ret, otsu = cv2.threshold(gray, -1, 255, cv2.THRESH_BINARY| cv2.THRESH_OTSU) # 정확도를 높이기 위해 binary이미지를 사용(이진화) + 오츠 알고리즘 적용\n",
    "# 윤곽선 찾는 법  find함수 사용 반환값 1: 윤곽선 정보 반환값2: 윤곽선의 계층 구조\n",
    "\n",
    "contours, hierarchy = cv2.findContours(otsu, cv2.RETR_LIST, cv2.CHAIN_APPROX_NONE)\n",
    "# 윤곽선 정보, 계층 구조 = 대상 이미지, 윤곽선을 찾는 모드(mode), 윤곽선을 찾을 때 사용하는 근사치 방법(method)\n",
    "\n",
    "COLOR=(0,200,0) #색상 정의\n",
    "cv2.drawContours(target_img, contours, -1, COLOR, 2)# 윤곽선을 그려주는 함수, -1은 모든 윤곽선을 그리라는 뜻, \n",
    "# 윤곽선 그리기(대상 이미지, 윤곽선 정보, 인덱스(-1이면 전체), 색상, 두께)\n",
    "\n",
    "cv2.imshow('origin img', img)\n",
    "cv2.imshow('gray img', gray)\n",
    "cv2.imshow('otsu', otsu) #binarization\n",
    "cv2.imshow('contour', target_img)\n",
    "cv2.waitKey(0)\n",
    "cv2.destroyAllWindows()"
   ]
  },
  {
   "cell_type": "markdown",
   "id": "f2a9bcab",
   "metadata": {},
   "source": [
    "### 윤곽선 찾기 모드\n",
    "1. cv2.RETR_EXTERNAL : 가장 외곽의 윤곽선만 찾음\n",
    "1. cv2.RETR_LIST : 모든 윤곽선을 찾음( 계층 정보 없음)\n",
    "1. cv2.RETR_TREE : 모든 윤곽선을 찾음( 계층 정보를 트리 구조로 생성)"
   ]
  },
  {
   "cell_type": "code",
   "execution_count": 27,
   "id": "74565236",
   "metadata": {},
   "outputs": [
    {
     "name": "stdout",
     "output_type": "stream",
     "text": [
      "[[[ 1 -1 -1 -1]\n",
      "  [ 2  0 -1 -1]\n",
      "  [10  1  3 -1]\n",
      "  [ 5 -1  4  2]\n",
      "  [-1 -1 -1  3]\n",
      "  [ 6  3 -1  2]\n",
      "  [ 7  5 -1  2]\n",
      "  [ 8  6 -1  2]\n",
      "  [-1  7  9  2]\n",
      "  [-1 -1 -1  8]\n",
      "  [18  2 11 -1]\n",
      "  [13 -1 12 10]\n",
      "  [-1 -1 -1 11]\n",
      "  [14 11 -1 10]\n",
      "  [15 13 -1 10]\n",
      "  [16 14 -1 10]\n",
      "  [-1 15 17 10]\n",
      "  [-1 -1 -1 16]\n",
      "  [26 10 19 -1]\n",
      "  [21 -1 20 18]\n",
      "  [-1 -1 -1 19]\n",
      "  [22 19 -1 18]\n",
      "  [23 21 -1 18]\n",
      "  [24 22 -1 18]\n",
      "  [-1 23 25 18]\n",
      "  [-1 -1 -1 24]\n",
      "  [34 18 27 -1]\n",
      "  [29 -1 28 26]\n",
      "  [-1 -1 -1 27]\n",
      "  [30 27 -1 26]\n",
      "  [31 29 -1 26]\n",
      "  [32 30 -1 26]\n",
      "  [-1 31 33 26]\n",
      "  [-1 -1 -1 32]\n",
      "  [35 26 -1 -1]\n",
      "  [-1 34 -1 -1]]]\n",
      "총 발견 갯수: 36 \n"
     ]
    }
   ],
   "source": [
    "import cv2\n",
    "\n",
    "img=cv2.imread('card.png')\n",
    "target_img = img.copy() \n",
    "\n",
    "gray = cv2.cvtColor(img, cv2.COLOR_BGR2GRAY)\n",
    "ret, otsu = cv2.threshold(gray, -1, 255, cv2.THRESH_BINARY| cv2.THRESH_OTSU) \n",
    "\n",
    "# contours, hierarchy = cv2.findContours(otsu, cv2.RETR_LIST, cv2.CHAIN_APPROX_NONE) # 계층 구조x\n",
    "# contours, hierarchy = cv2.findContours(otsu, cv2.RETR_EXTERNAL, cv2.CHAIN_APPROX_NONE)# 가장 외곽 윤곽선 찾기\n",
    "contours, hierarchy = cv2.findContours(otsu, cv2.RETR_TREE, cv2.CHAIN_APPROX_NONE) # 계층 구조o,\n",
    "\n",
    "print(hierarchy) #계층정보 출력하기\n",
    "print(f'총 발견 갯수: {len(contours)} ') #총 발견 갯수\n",
    "\n",
    "COLOR=(0,200,0) \n",
    "cv2.drawContours(target_img, contours, -1, COLOR, 2)\n",
    "\n",
    "\n",
    "cv2.imshow('origin img', img)\n",
    "cv2.imshow('gray img', gray)\n",
    "cv2.imshow('otsu', otsu) #binarization\n",
    "cv2.imshow('contour', target_img)\n",
    "cv2.waitKey(0)\n",
    "cv2.destroyAllWindows()"
   ]
  },
  {
   "cell_type": "markdown",
   "id": "ff33b88f",
   "metadata": {},
   "source": [
    "## 경계 사각형\n",
    "윤곽선의 경계면을 둘러싸는 사각형\n",
    "> boundingRect()"
   ]
  },
  {
   "cell_type": "code",
   "execution_count": 26,
   "id": "99d124ea",
   "metadata": {},
   "outputs": [],
   "source": [
    "import cv2\n",
    "\n",
    "img=cv2.imread('card.png')\n",
    "target_img = img.copy() \n",
    "\n",
    "gray = cv2.cvtColor(img, cv2.COLOR_BGR2GRAY)\n",
    "ret, otsu = cv2.threshold(gray, -1, 255, cv2.THRESH_BINARY| cv2.THRESH_OTSU) \n",
    "contours, hierarchy = cv2.findContours(otsu, cv2.RETR_TREE, cv2.CHAIN_APPROX_NONE) # 계층 구조o\n",
    "\n",
    "COLOR=(0,200,0) #녹색\n",
    "\n",
    "#윤곽선 근처에 사각형 그리기\n",
    "for cnt in contours: #정보를 하나씩 가지고 와서 윤곽선에 사각형 그림\n",
    "    x,y,width,height=cv2.boundingRect(cnt) #윤곽선을 둘러싸는 사각형 정보가 반환됨\n",
    "    cv2.rectangle(target_img, (x,y),(x+width, y+height), COLOR, 2)\n",
    "\n",
    "cv2.imshow('origin img', img)\n",
    "cv2.imshow('gray img', gray)\n",
    "cv2.imshow('otsu', otsu) #binarization\n",
    "cv2.imshow('contour', target_img)\n",
    "cv2.waitKey(0)\n",
    "cv2.destroyAllWindows()"
   ]
  },
  {
   "cell_type": "markdown",
   "id": "1004a22e",
   "metadata": {},
   "source": [
    "## 면적\n",
    "> contourArea()\n",
    "내가 원하는 면적만큼만 보고싶을 때 "
   ]
  },
  {
   "cell_type": "code",
   "execution_count": 25,
   "id": "34469262",
   "metadata": {},
   "outputs": [],
   "source": [
    "import cv2\n",
    "\n",
    "img=cv2.imread('card.png')\n",
    "target_img = img.copy() \n",
    "\n",
    "gray = cv2.cvtColor(img, cv2.COLOR_BGR2GRAY)\n",
    "ret, otsu = cv2.threshold(gray, -1, 255, cv2.THRESH_BINARY| cv2.THRESH_OTSU) \n",
    "contours, hierarchy = cv2.findContours(otsu, cv2.RETR_TREE, cv2.CHAIN_APPROX_NONE) # 계층 구조o\n",
    "\n",
    "COLOR=(0,200,0) #녹색\n",
    "\n",
    "#윤곽선 근처에 일정 크기 이상의사각형만 그리기\n",
    "for cnt in contours: #정보를 하나씩 가지고 오기\n",
    "    \n",
    "    # 원하는 면적 크기 이상일 때, 사각형 그리기\n",
    "    if cv2.contourArea(cnt) > 25000: #원하는 크기 -> 카드 한 장 크기: 가로 130 x 세로 205 = 26,650   \n",
    "        x,y,width,height=cv2.boundingRect(cnt) \n",
    "        cv2.rectangle(target_img, (x,y),(x+width, y+height), COLOR, 2)\n",
    "\n",
    "cv2.imshow('origin img', img)\n",
    "cv2.imshow('contour', target_img)\n",
    "cv2.waitKey(0)\n",
    "cv2.destroyAllWindows()"
   ]
  },
  {
   "cell_type": "code",
   "execution_count": null,
   "id": "7be1898f",
   "metadata": {},
   "outputs": [],
   "source": []
  },
  {
   "cell_type": "code",
   "execution_count": null,
   "id": "5476356a",
   "metadata": {},
   "outputs": [],
   "source": []
  },
  {
   "cell_type": "code",
   "execution_count": null,
   "id": "a6ccb50b",
   "metadata": {},
   "outputs": [],
   "source": []
  }
 ],
 "metadata": {
  "kernelspec": {
   "display_name": "Python 3 (ipykernel)",
   "language": "python",
   "name": "python3"
  },
  "language_info": {
   "codemirror_mode": {
    "name": "ipython",
    "version": 3
   },
   "file_extension": ".py",
   "mimetype": "text/x-python",
   "name": "python",
   "nbconvert_exporter": "python",
   "pygments_lexer": "ipython3",
   "version": "3.11.3"
  }
 },
 "nbformat": 4,
 "nbformat_minor": 5
}
